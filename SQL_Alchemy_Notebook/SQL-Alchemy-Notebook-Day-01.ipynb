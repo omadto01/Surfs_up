{
 "cells": [
  {
   "cell_type": "markdown",
   "metadata": {},
   "source": [
    "# Instructor Turn - 01 - Basic SQL Connection - 👩‍🏫🧑‍🏫\n",
    "\n",
    "\n"
   ]
  },
  {
   "cell_type": "code",
   "execution_count": null,
   "metadata": {},
   "outputs": [],
   "source": [
    "# SQLAlchemy\n",
    "from sqlalchemy import create_engine\n",
    "from sqlalchemy import inspect\n",
    "# Pandas\n",
    "import pandas as pd\n",
    "# Path to sqlite\n",
    "database_path = \"./Resources/Census_Data.sqlite\""
   ]
  },
  {
   "cell_type": "code",
   "execution_count": null,
   "metadata": {},
   "outputs": [],
   "source": [
    "# Create an engine that can talk to the database\n",
    "engine = create_engine(f\"sqlite:///{database_path}\")"
   ]
  },
  {
   "cell_type": "code",
   "execution_count": null,
   "metadata": {},
   "outputs": [],
   "source": [
    "# Get the name of the table. \n",
    "inspector = inspect(engine)\n",
    "inspector.get_table_names()"
   ]
  },
  {
   "cell_type": "code",
   "execution_count": null,
   "metadata": {},
   "outputs": [],
   "source": [
    "# Using the inspector to print the column names within the 'Census_Data' table and its types\n",
    "columns = inspector.get_columns('Census_Data')\n",
    "for column in columns:\n",
    "    print(column)"
   ]
  },
  {
   "cell_type": "code",
   "execution_count": null,
   "metadata": {},
   "outputs": [],
   "source": [
    "# Get the column names for the table\n",
    "column_names = inspector.get_columns('Census_Data')\n",
    "for column_name in column_names:\n",
    "    print(column_name[\"name\"])"
   ]
  },
  {
   "cell_type": "code",
   "execution_count": null,
   "metadata": {},
   "outputs": [],
   "source": [
    "# Query All Records in the the Database\n",
    "data = engine.execute(\"SELECT * FROM Census_Data\")\n",
    "\n",
    "for record in data:\n",
    "    print(record)"
   ]
  },
  {
   "cell_type": "code",
   "execution_count": null,
   "metadata": {},
   "outputs": [],
   "source": [
    "# Query Single Record in the the Database\n",
    "data = engine.execute(\"SELECT CityState FROM Census_Data WHERE Population >= 1000000;\")\n",
    "for record in data:\n",
    "    print(record)"
   ]
  },
  {
   "cell_type": "code",
   "execution_count": null,
   "metadata": {},
   "outputs": [],
   "source": [
    "# Query Single Record in the the Database\n",
    "data = engine.execute(\"SELECT `Household Income` FROM Census_Data;\")\n",
    "for record in data:\n",
    "    print(record)"
   ]
  },
  {
   "cell_type": "code",
   "execution_count": null,
   "metadata": {},
   "outputs": [],
   "source": [
    "# Read SQLite file into Pandas DataFrame\n",
    "\n",
    "# Make a connection to the SQL database\n",
    "conn = engine.connect()\n",
    "\n",
    "# Query All Records in the the Database\n",
    "census_data_df = pd.read_sql(\"SELECT * FROM Census_Data\", conn)\n",
    "census_data_df.head()"
   ]
  },
  {
   "cell_type": "code",
   "execution_count": null,
   "metadata": {},
   "outputs": [],
   "source": [
    "# Get the CityState where the Household Income is equal to or greater than $100,000. \n",
    "census_data_df.loc[census_data_df[\"Hispanic Population\"]>= 500000]['CityState'].values"
   ]
  },
  {
   "cell_type": "code",
   "execution_count": null,
   "metadata": {},
   "outputs": [],
   "source": [
    "census_data_df.describe()"
   ]
  },
  {
   "cell_type": "markdown",
   "metadata": {},
   "source": [
    "# Instructor Turn - 02 - Reflection - 👩‍🏫🧑‍🏫\n"
   ]
  },
  {
   "cell_type": "code",
   "execution_count": null,
   "metadata": {},
   "outputs": [],
   "source": [
    "# Python SQL toolkit and Object Relational Mapper\n",
    "import sqlalchemy\n",
    "from sqlalchemy.ext.automap import automap_base\n",
    "from sqlalchemy.orm import Session\n",
    "from sqlalchemy import create_engine"
   ]
  },
  {
   "cell_type": "code",
   "execution_count": null,
   "metadata": {},
   "outputs": [],
   "source": [
    "# Create engine using the `demographics.sqlite` database file\n",
    "engine = create_engine(\"sqlite:///./Resources/dow.sqlite\")"
   ]
  },
  {
   "cell_type": "code",
   "execution_count": null,
   "metadata": {},
   "outputs": [],
   "source": [
    "# Declare a Base using `automap_base()`\n",
    "Base = automap_base()"
   ]
  },
  {
   "cell_type": "code",
   "execution_count": null,
   "metadata": {},
   "outputs": [],
   "source": [
    "# Use the Base class to reflect the database tables\n",
    "Base.prepare(engine, reflect=True)"
   ]
  },
  {
   "cell_type": "code",
   "execution_count": null,
   "metadata": {
    "scrolled": true
   },
   "outputs": [],
   "source": [
    "# Print all of the classes mapped to the Base\n",
    "Base.classes.keys()"
   ]
  },
  {
   "cell_type": "code",
   "execution_count": null,
   "metadata": {},
   "outputs": [],
   "source": [
    "# Assign the dow class to a variable called `Dow`\n",
    "Dow = Base.classes.dow"
   ]
  },
  {
   "cell_type": "code",
   "execution_count": null,
   "metadata": {},
   "outputs": [],
   "source": [
    "# Create a session\n",
    "session = Session(engine)"
   ]
  },
  {
   "cell_type": "code",
   "execution_count": null,
   "metadata": {
    "scrolled": true
   },
   "outputs": [],
   "source": [
    "# Display the row's columns and data in dictionary format\n",
    "first_row = session.query(Dow).first()\n",
    "first_row.__dict__"
   ]
  },
  {
   "cell_type": "code",
   "execution_count": null,
   "metadata": {},
   "outputs": [],
   "source": [
    "# Use the session to query Dow table and display the first 5 trade volumes\n",
    "for row in session.query(Dow.stock, Dow.volume).limit(15).all():\n",
    "    print(row)"
   ]
  },
  {
   "cell_type": "markdown",
   "metadata": {},
   "source": [
    "# Student Turn - 03 -Reflecting On SQL - 👩‍🎓👨‍🎓 \n"
   ]
  },
  {
   "cell_type": "markdown",
   "metadata": {},
   "source": [
    "* **Instructions**:\n",
    "\n",
    "  * Create engine using the `demographics.sqlite` database file\n",
    "\n",
    "  * Declare a Base using `automap_base()` and use this new Base class to reflect the database's tables\n",
    "\n",
    "  * Assign the demographics table/class to a variable called `Demographics`\n",
    "\n",
    "  * Create a session and use this session to query the `Demographics` table and display the first five locations\n",
    "\n",
    "* **Bonus**:\n",
    "\n",
    "  * Query and print the number of unique locations in the table.\n",
    "\n",
    "* **Hint**:\n",
    "\n",
    "  * For the bonus, look into counting and grouping operations in SQLAlchemy\n"
   ]
  },
  {
   "cell_type": "code",
   "execution_count": null,
   "metadata": {},
   "outputs": [],
   "source": [
    "# Python SQL toolkit and Object Relational Mapper\n",
    "import sqlalchemy\n",
    "from sqlalchemy.ext.automap import automap_base\n",
    "from sqlalchemy.orm import Session\n",
    "from sqlalchemy import create_engine\n",
    "\n",
    "# Create engine using the `demographics.sqlite` database file\n",
    "engine = create_engine(\"sqlite:///./Resources/demographics.sqlite\")"
   ]
  },
  {
   "cell_type": "code",
   "execution_count": null,
   "metadata": {},
   "outputs": [],
   "source": [
    "# Declare a Base using `automap_base()`\n",
    "# YOUR CODE HERE\n",
    "\n",
    "# Use the Base class to reflect the database tables\n",
    "# YOUR CODE HERE\n",
    "\n",
    "# Print all of the classes mapped to the Base\n",
    "# YOUR CODE HERE\n",
    "\n",
    "# Assign the demographics class to a variable called `Demographics`\n",
    "# YOUR CODE HERE\n",
    "\n",
    "# Create a session\n",
    "# YOUR CODE HERE\n",
    "\n",
    "# Use the session to query Demographics table and display the first 5 locations\n",
    "# YOUR CODE HERE\n",
    "\n",
    "# BONUS: Query and print the number of unique Locations\n",
    "# Hints: Look into counting and grouping operations in SQLAlchemy\n",
    "# YOUR CODE HERE"
   ]
  },
  {
   "cell_type": "markdown",
   "metadata": {},
   "source": [
    "<details>\n",
    "    <summary><strong>Activity 03 Solution ✅</strong></summary>\n",
    "    \n",
    "```python\n",
    "# Python SQL toolkit and Object Relational Mapper\n",
    "import sqlalchemy\n",
    "from sqlalchemy.ext.automap import automap_base\n",
    "from sqlalchemy.orm import Session\n",
    "from sqlalchemy import create_engine\n",
    "\n",
    "# Create engine using the `demographics.sqlite` database file\n",
    "engine = create_engine(\"sqlite:///./Resources/demographics.sqlite\")\n",
    "\n",
    "# Declare a Base using `automap_base()`\n",
    "Base = automap_base()\n",
    "\n",
    "# Use the Base class to reflect the database tables\n",
    "Base.prepare(engine, reflect=True)\n",
    "\n",
    "# Print all of the classes mapped to the Base\n",
    "Base.classes.keys()\n",
    "\n",
    "# Assign the demographics class to a variable called `Demographics`\n",
    "Demographics = Base.classes.demographics\n",
    "\n",
    "# Create a session\n",
    "session = Session(engine)\n",
    "\n",
    "# Use the session to query Demographics table and display the first 5 locations\n",
    "for row in session.query(Demographics, Demographics.location).limit(5).all():\n",
    "    print(row)\n",
    "\n",
    "# BONUS: Query and print the number of unique Locations\n",
    "# Hints: Look into counting and grouping operations in SQLAlchemy\n",
    "locations = session.query(Demographics).group_by(Demographics.location).count()\n",
    "print(locations)\n",
    "\n",
    "```\n",
    "</details>"
   ]
  },
  {
   "cell_type": "markdown",
   "metadata": {},
   "source": [
    "# Instructor Turn - 04 - Exploring - 👩‍🏫🧑‍🏫\n"
   ]
  },
  {
   "cell_type": "code",
   "execution_count": null,
   "metadata": {},
   "outputs": [],
   "source": [
    "# Import SQLAlchemy `automap` and other dependencies\n",
    "import sqlalchemy\n",
    "from sqlalchemy.ext.automap import automap_base\n",
    "from sqlalchemy.orm import Session\n",
    "from sqlalchemy import create_engine, inspect, MetaData, Table\n",
    "# Using SQLAlchemy ORM to reflect and map the table"
   ]
  },
  {
   "cell_type": "code",
   "execution_count": null,
   "metadata": {},
   "outputs": [],
   "source": [
    "# Create the connection engine\n",
    "engine = create_engine(\"sqlite:///./Resources/dow.sqlite\")"
   ]
  },
  {
   "cell_type": "code",
   "execution_count": null,
   "metadata": {},
   "outputs": [],
   "source": [
    "# Declare a Base using `automap_base()`\n",
    "Base = automap_base()\n",
    "# Use the Base class to reflect the database tables\n",
    "Base.prepare(engine, reflect=True)"
   ]
  },
  {
   "cell_type": "code",
   "execution_count": null,
   "metadata": {},
   "outputs": [],
   "source": [
    "# Print all of the classes (tables) mapped to the Base\n",
    "Base.classes.keys()"
   ]
  },
  {
   "cell_type": "code",
   "execution_count": null,
   "metadata": {},
   "outputs": [],
   "source": [
    "# Use the inspect() function to reflect the table and get the column names.\n",
    "\n",
    "# Create the inspector and connect it to the engine\n",
    "inspector = inspect(engine)"
   ]
  },
  {
   "cell_type": "code",
   "execution_count": null,
   "metadata": {},
   "outputs": [],
   "source": [
    "# Using the inspector to print the column names within the 'dow' table and its types\n",
    "columns = inspector.get_columns('dow')\n",
    "for column in columns:\n",
    "    print(column[\"name\"], column[\"type\"])"
   ]
  },
  {
   "cell_type": "code",
   "execution_count": null,
   "metadata": {},
   "outputs": [],
   "source": [
    "# Use the Metadata and Table object to describe the table and columns.\n",
    "#  Create a meta data object to hold the reflected table schema\n",
    "metadata = MetaData()"
   ]
  },
  {
   "cell_type": "code",
   "execution_count": null,
   "metadata": {},
   "outputs": [],
   "source": [
    "# Create a table object and use 'autoload' and 'autoload_with' to define the columns from the table. \n",
    "table = Table('dow', metadata, autoload=True, autoload_with=engine)\n",
    "\n",
    "# Get the column names using the 'keys()' method on the column object. \n",
    "table.columns.keys()\n",
    "\n",
    "table.columns.stock"
   ]
  },
  {
   "cell_type": "code",
   "execution_count": null,
   "metadata": {},
   "outputs": [],
   "source": [
    "# Use SQL to query the table.\n",
    "# Use SQL to query 'all' the records in the the Database \n",
    "data = engine.execute(\"SELECT * FROM dow\")\n",
    "\n",
    "for record in data:\n",
    "    print(record)\n"
   ]
  },
  {
   "cell_type": "code",
   "execution_count": null,
   "metadata": {},
   "outputs": [],
   "source": [
    "# Use SQL to get all the unique stocks.\n",
    "engine.execute('SELECT DISTINCT Stock FROM dow').fetchall()\n",
    "\n",
    "# Use Python to query the table.\n",
    "\n",
    "# Assign the dow class to a variable called `Dow`\n",
    "Dow = Base.classes.dow\n",
    "Dow"
   ]
  },
  {
   "cell_type": "code",
   "execution_count": null,
   "metadata": {},
   "outputs": [],
   "source": [
    "# Create a session\n",
    "session = Session(engine)\n",
    "\n",
    "# Print all the stocks. \n",
    "for stocks in session.query(Dow.stock).all():\n",
    "    print(stocks)"
   ]
  },
  {
   "cell_type": "code",
   "execution_count": null,
   "metadata": {},
   "outputs": [],
   "source": [
    "# Print all the unique stocks. \n",
    "for stocks in session.query(Dow.stock).distinct():\n",
    "    print(stocks)\n"
   ]
  },
  {
   "cell_type": "markdown",
   "metadata": {},
   "source": [
    "# Student Turn - 05 - Salary Explore  - 👩‍🎓👨‍🎓 \n",
    "\n",
    "# Instructions:\n",
    "\n",
    "* Using the attached SQLite file, do the following:\n",
    "\n",
    "  * Use SQLAlchemy ORM to reflect and map the table. \n",
    "\n",
    "  * Use the `inspect()` function to get the column names and types.\n",
    "\n",
    "  * Use the `Metadata` and `Table` object to get the column names.\n",
    "\n",
    "  * Use SQL commands to get all the records in the the table.\n",
    "\n",
    "  * Use SQL commands to get all the job titles where the Total Pay is greater than or equal to $250,000.\n",
    "  \n",
    "  * Use Python to get all the job titles where the Total Pay is greater than or equal to $250,000.\n",
    "\n",
    "---"
   ]
  },
  {
   "cell_type": "code",
   "execution_count": null,
   "metadata": {},
   "outputs": [],
   "source": [
    "# Import SQLAlchemy `automap` and other dependencies\n",
    "import sqlalchemy\n",
    "from sqlalchemy.ext.automap import automap_base\n",
    "from sqlalchemy.orm import Session\n",
    "from sqlalchemy import create_engine, inspect, MetaData, Table\n",
    "\n",
    "### Using SQLAlchemy ORM to reflect and map the table¶\n",
    "\n",
    "# Create the connection engine\n",
    "engine = create_engine(\"sqlite:///./Resources/database.sqlite\")\n",
    "# Declare a Base using `automap_base()`\n",
    "Base = automap_base()\n",
    "# Use the Base class to reflect the database tables\n",
    "Base.prepare(engine, reflect=True)"
   ]
  },
  {
   "cell_type": "code",
   "execution_count": null,
   "metadata": {},
   "outputs": [],
   "source": [
    "# Print all of the classes mapped to the Base\n",
    "Base.classes.keys()"
   ]
  },
  {
   "cell_type": "code",
   "execution_count": null,
   "metadata": {},
   "outputs": [],
   "source": [
    "### Use the inspect() function to reflect the table and get the column names.\n",
    "\n",
    "# Create the inspector and connect it to the engine\n",
    "\n",
    "\n",
    "# Using the inspector to print the column names within the table and its types\n"
   ]
  },
  {
   "cell_type": "code",
   "execution_count": null,
   "metadata": {},
   "outputs": [],
   "source": [
    "### Use the Metadata and Table object to describe the table and columns.\n",
    "\n",
    "#  Create a meta data object to hold the reflected table schema\n",
    "\n",
    "\n",
    "# Create a table object and use 'autoload' and 'autoload_with' to define the columns from the table. \n",
    "\n",
    "# Get the column names using the 'keys()' method on the column object. \n",
    "\n",
    "\n",
    "### Use SQL to query the table. \n",
    "\n",
    "# Get 'all' the records in the the table\n",
    "\n",
    "\n",
    "# Get all the job titles where the Total Pay is greater than or equal to $250,000.\n",
    "\n",
    "\n",
    "### Use Python to query the table. \n",
    "\n",
    "# Assign the class to a variable\n",
    "\n",
    "\n",
    "# Create a session\n",
    "\n",
    "\n",
    "# Get all the job titles where the Total Pay is greater than or equal to $250,000.\n",
    "\n",
    "\n",
    "# Get all the job titles in the Police department where the Total Pay is greater than or equal to $250,000.\n"
   ]
  },
  {
   "cell_type": "markdown",
   "metadata": {},
   "source": [
    "Use the Metadata and Table object to describe the table and columns."
   ]
  },
  {
   "cell_type": "markdown",
   "metadata": {},
   "source": []
  },
  {
   "cell_type": "markdown",
   "metadata": {},
   "source": [
    "<details>\n",
    "    <summary><strong>Activity 05 Solution ✅</strong></summary>\n",
    "    \n",
    "```python\n",
    "\n",
    "# Import SQLAlchemy `automap` and other dependencies\n",
    "import sqlalchemy\n",
    "from sqlalchemy.ext.automap import automap_base\n",
    "from sqlalchemy.orm import Session\n",
    "from sqlalchemy import create_engine, inspect, MetaData, Table\n",
    "\n",
    "### Using SQLAlchemy ORM to reflect and map the table¶\n",
    "\n",
    "# Create the connection engine\n",
    "engine = create_engine(\"sqlite:///./Resources/database.sqlite\")\n",
    "# Declare a Base using `automap_base()`\n",
    "Base = automap_base()\n",
    "# Use the Base class to reflect the database tables\n",
    "Base.prepare(engine, reflect=True)\n",
    "\n",
    "# Print all of the classes mapped to the Base\n",
    "Base.classes.keys()\n",
    "\n",
    "### Use the inspect() function to reflect the table and get the column names.\n",
    "\n",
    "# Create the inspector and connect it to the engine\n",
    "inspector = inspect(engine)\n",
    "\n",
    "# Using the inspector to print the column names within the table and its types\n",
    "columns = inspector.get_columns('Salaries')\n",
    "for column in columns:\n",
    "    print(column[\"name\"], column[\"type\"])\n",
    "\n",
    "### Use the Metadata and Table object to describe the table and columns.\n",
    "\n",
    "#  Create a meta data object to hold the reflected table schema\n",
    "metadata = MetaData()\n",
    "\n",
    "# Create a table object and use 'autoload' and 'autoload_with' to define the columns from the table. \n",
    "table = Table('salaries', metadata, autoload=True, autoload_with=engine)\n",
    "\n",
    "# Get the column names using the 'keys()' method on the column object. \n",
    "table.columns.keys()\n",
    "\n",
    "### Use SQL to query the table. \n",
    "\n",
    "# Get 'all' the records in the the table\n",
    "data = engine.execute(\"SELECT * FROM Salaries\")\n",
    "\n",
    "for record in data:\n",
    "    print(record)\n",
    "\n",
    "# Get all the job titles where the Total Pay is greater than or equal to $250,000.\n",
    "job_titles = engine.execute(\"SELECT DISTINCT JobTitle FROM Salaries WHERE TotalPay >= 250000\")\n",
    "\n",
    "for job_title in job_titles:\n",
    "    print(job_title)\n",
    "\n",
    "### Use Python to query the table. \n",
    "\n",
    "# Assign the class to a variable\n",
    "Salaries = Base.classes.Salaries\n",
    "Salaries\n",
    "\n",
    "# Create a session\n",
    "session = Session(engine)\n",
    "\n",
    "# Get all the job titles where the Total Pay is greater than or equal to $250,000.\n",
    "jobs = session.query(Salaries.JobTitle).filter(Salaries.TotalPay >= 250000)\n",
    "for job in jobs:\n",
    "    print(job)\n",
    "\n",
    "# Get all the job titles in the Police department where the Total Pay is greater than or equal to $250,000.\n",
    "jobs = session.query(Salaries.JobTitle).filter(Salaries.JobTitle.like('%POLICE%')).filter(Salaries.TotalPay >= 250000)\n",
    "for job in jobs:\n",
    "    print(job)\n",
    "\n",
    "```\n",
    "</details>"
   ]
  },
  {
   "cell_type": "markdown",
   "metadata": {},
   "source": [
    "# Instructor Turn - 06 - Dates - 👩‍🏫🧑‍🏫"
   ]
  },
  {
   "cell_type": "markdown",
   "metadata": {
    "slideshow": {
     "slide_type": "slide"
    }
   },
   "source": [
    "# SQLAlchemy, Sqlite, and Dates"
   ]
  },
  {
   "cell_type": "markdown",
   "metadata": {
    "slideshow": {
     "slide_type": "slide"
    }
   },
   "source": [
    "## Setup"
   ]
  },
  {
   "cell_type": "code",
   "execution_count": null,
   "metadata": {
    "slideshow": {
     "slide_type": "subslide"
    }
   },
   "outputs": [],
   "source": [
    "# Python SQL toolkit and Object Relational Mapper\n",
    "import sqlalchemy\n",
    "from sqlalchemy.ext.automap import automap_base\n",
    "from sqlalchemy.orm import Session\n",
    "from sqlalchemy import create_engine, inspect, func"
   ]
  },
  {
   "cell_type": "code",
   "execution_count": null,
   "metadata": {
    "slideshow": {
     "slide_type": "subslide"
    }
   },
   "outputs": [],
   "source": [
    "engine = create_engine(\"sqlite:///./Resources/dow.sqlite\", echo=False)"
   ]
  },
  {
   "cell_type": "markdown",
   "metadata": {
    "slideshow": {
     "slide_type": "slide"
    }
   },
   "source": [
    "## Explore Database"
   ]
  },
  {
   "cell_type": "code",
   "execution_count": null,
   "metadata": {
    "slideshow": {
     "slide_type": "subslide"
    }
   },
   "outputs": [],
   "source": [
    "inspector = inspect(engine)\n",
    "inspector.get_table_names()"
   ]
  },
  {
   "cell_type": "code",
   "execution_count": null,
   "metadata": {
    "slideshow": {
     "slide_type": "subslide"
    }
   },
   "outputs": [],
   "source": [
    "# Get a list of column names and types\n",
    "columns = inspector.get_columns('dow')\n",
    "for c in columns:\n",
    "    print(c['name'], c[\"type\"])\n",
    "# columns"
   ]
  },
  {
   "cell_type": "code",
   "execution_count": null,
   "metadata": {
    "slideshow": {
     "slide_type": "subslide"
    }
   },
   "outputs": [],
   "source": [
    "engine.execute('SELECT * FROM dow LIMIT 5').fetchall()"
   ]
  },
  {
   "cell_type": "markdown",
   "metadata": {
    "slideshow": {
     "slide_type": "slide"
    }
   },
   "source": [
    "## Reflect and query dates"
   ]
  },
  {
   "cell_type": "code",
   "execution_count": null,
   "metadata": {
    "slideshow": {
     "slide_type": "subslide"
    }
   },
   "outputs": [],
   "source": [
    "# Reflect Database into ORM class\n",
    "Base = automap_base()\n",
    "Base.prepare(engine, reflect=True)\n",
    "Dow = Base.classes.dow"
   ]
  },
  {
   "cell_type": "code",
   "execution_count": null,
   "metadata": {
    "slideshow": {
     "slide_type": "fragment"
    }
   },
   "outputs": [],
   "source": [
    "session = Session(engine)"
   ]
  },
  {
   "cell_type": "markdown",
   "metadata": {
    "slideshow": {
     "slide_type": "subslide"
    }
   },
   "source": [
    "How many dates do we have?"
   ]
  },
  {
   "cell_type": "code",
   "execution_count": null,
   "metadata": {
    "slideshow": {
     "slide_type": "fragment"
    }
   },
   "outputs": [],
   "source": [
    "# Total dates\n",
    "session.query(func.count(Dow.date)).all()"
   ]
  },
  {
   "cell_type": "markdown",
   "metadata": {
    "slideshow": {
     "slide_type": "subslide"
    }
   },
   "source": [
    "What is the earliest date?"
   ]
  },
  {
   "cell_type": "code",
   "execution_count": null,
   "metadata": {
    "slideshow": {
     "slide_type": "fragment"
    }
   },
   "outputs": [],
   "source": [
    "# Earliest Date\n",
    "session.query(Dow.date).order_by(Dow.date).first()"
   ]
  },
  {
   "cell_type": "markdown",
   "metadata": {
    "slideshow": {
     "slide_type": "subslide"
    }
   },
   "source": [
    "What is the latest date?"
   ]
  },
  {
   "cell_type": "code",
   "execution_count": null,
   "metadata": {
    "slideshow": {
     "slide_type": "fragment"
    }
   },
   "outputs": [],
   "source": [
    "# Latest Date\n",
    "session.query(Dow.date).order_by(Dow.date.desc()).first()"
   ]
  },
  {
   "cell_type": "markdown",
   "metadata": {
    "slideshow": {
     "slide_type": "subslide"
    }
   },
   "source": [
    "Find all of the dates great than `2011-03-01`"
   ]
  },
  {
   "cell_type": "code",
   "execution_count": null,
   "metadata": {
    "slideshow": {
     "slide_type": "fragment"
    }
   },
   "outputs": [],
   "source": [
    "session.query(Dow.date).\\\n",
    "    filter(Dow.date > '2011-03-01').\\\n",
    "    order_by(Dow.date).all()"
   ]
  },
  {
   "cell_type": "markdown",
   "metadata": {
    "slideshow": {
     "slide_type": "subslide"
    }
   },
   "source": [
    "### Important Note! Sqlite does not support a date column type, but SQLAlchemy will allow you to work with dates in the iso format. [sqlite dates](http://docs.sqlalchemy.org/en/latest/dialects/sqlite.html)"
   ]
  },
  {
   "cell_type": "markdown",
   "metadata": {
    "slideshow": {
     "slide_type": "slide"
    }
   },
   "source": [
    "# Quick Review of DateTime"
   ]
  },
  {
   "cell_type": "code",
   "execution_count": null,
   "metadata": {
    "slideshow": {
     "slide_type": "subslide"
    }
   },
   "outputs": [],
   "source": [
    "import datetime as dt"
   ]
  },
  {
   "cell_type": "code",
   "execution_count": null,
   "metadata": {
    "slideshow": {
     "slide_type": "fragment"
    }
   },
   "outputs": [],
   "source": [
    "# Print today's date \n",
    "print(dt.date.today())\n",
    "# Print a specific date \n",
    "print(dt.date(2017,10 ,8))"
   ]
  },
  {
   "cell_type": "code",
   "execution_count": null,
   "metadata": {
    "slideshow": {
     "slide_type": "fragment"
    }
   },
   "outputs": [],
   "source": [
    "# Print a datetime object \n",
    "print(dt.datetime.utcnow())\n",
    "print(dt.datetime(2017,10 ,8))"
   ]
  },
  {
   "cell_type": "markdown",
   "metadata": {
    "slideshow": {
     "slide_type": "subslide"
    }
   },
   "source": [
    "Calculate a time delta"
   ]
  },
  {
   "cell_type": "code",
   "execution_count": null,
   "metadata": {
    "slideshow": {
     "slide_type": "fragment"
    }
   },
   "outputs": [],
   "source": [
    "# The date 9 weeks ago from today. \n",
    "week_ago = dt.date.today() - dt.timedelta(days=63)\n",
    "week_ago"
   ]
  },
  {
   "cell_type": "code",
   "execution_count": null,
   "metadata": {},
   "outputs": [],
   "source": [
    "# The number of days between two datetime objects – When the next solar eclipse will be and today.\n",
    "a = dt.datetime(2023, 10, 14) \n",
    "b = dt.datetime.utcnow()\n",
    "  \n",
    "# returns a timedelta object \n",
    "c = a-b  \n",
    "print(c)"
   ]
  },
  {
   "cell_type": "markdown",
   "metadata": {
    "slideshow": {
     "slide_type": "subslide"
    }
   },
   "source": [
    "Query for the Dow closing price 1 week before `2011-04-08` using the datetime library"
   ]
  },
  {
   "cell_type": "code",
   "execution_count": null,
   "metadata": {
    "slideshow": {
     "slide_type": "fragment"
    }
   },
   "outputs": [],
   "source": [
    "# Query for the Dow closing price for `CSCO` 1 week before `2011-04-08` using the datetime library\n",
    "query_date = dt.date(2011, 4, 8) - dt.timedelta(days=7)\n",
    "print(\"Query Date: \", query_date)"
   ]
  },
  {
   "cell_type": "code",
   "execution_count": null,
   "metadata": {
    "slideshow": {
     "slide_type": "fragment"
    }
   },
   "outputs": [],
   "source": [
    "session.query(Dow.date, Dow.close_price).\\\n",
    "    filter(Dow.stock == 'CSCO').\\\n",
    "    filter(Dow.date == query_date).all()"
   ]
  },
  {
   "cell_type": "code",
   "execution_count": null,
   "metadata": {
    "slideshow": {
     "slide_type": "subslide"
    }
   },
   "outputs": [],
   "source": [
    "# Parse out just the day from the datetime object\n",
    "dt.date.today().strftime(\"%d\")"
   ]
  },
  {
   "cell_type": "markdown",
   "metadata": {
    "slideshow": {
     "slide_type": "subslide"
    }
   },
   "source": [
    "Putting it all together"
   ]
  },
  {
   "cell_type": "code",
   "execution_count": null,
   "metadata": {
    "slideshow": {
     "slide_type": "fragment"
    }
   },
   "outputs": [],
   "source": [
    "# Query for all stocks, their opening and closing price that match\n",
    "# following date string in the format `%d`\n",
    "date_str = \"14\"\n",
    "session.query(Dow.date, Dow.stock, Dow.open_price, Dow.close_price).\\\n",
    "    filter(func.strftime(\"%d\", Dow.date) == date_str).all()"
   ]
  },
  {
   "cell_type": "markdown",
   "metadata": {
    "slideshow": {
     "slide_type": "subslide"
    }
   },
   "source": [
    "## Your Turn!"
   ]
  },
  {
   "cell_type": "markdown",
   "metadata": {},
   "source": [
    "# Everyone Turn - 07 - Dates - 👩‍🏫🧑‍🏫"
   ]
  },
  {
   "cell_type": "markdown",
   "metadata": {
    "slideshow": {
     "slide_type": "slide"
    }
   },
   "source": [
    "# SQLAlchemy, Sqlite, and Dates"
   ]
  },
  {
   "cell_type": "markdown",
   "metadata": {
    "slideshow": {
     "slide_type": "slide"
    }
   },
   "source": [
    "## Setup"
   ]
  },
  {
   "cell_type": "code",
   "execution_count": null,
   "metadata": {},
   "outputs": [],
   "source": [
    "import matplotlib\n",
    "from matplotlib import style\n",
    "style.use('fivethirtyeight')\n",
    "import matplotlib.pyplot as plt"
   ]
  },
  {
   "cell_type": "code",
   "execution_count": null,
   "metadata": {},
   "outputs": [],
   "source": [
    "import pandas as pd"
   ]
  },
  {
   "cell_type": "code",
   "execution_count": null,
   "metadata": {
    "slideshow": {
     "slide_type": "subslide"
    }
   },
   "outputs": [],
   "source": [
    "# Python SQL toolkit and Object Relational Mapper\n",
    "import sqlalchemy\n",
    "from sqlalchemy.ext.automap import automap_base\n",
    "from sqlalchemy.orm import Session\n",
    "from sqlalchemy import create_engine, inspect, func"
   ]
  },
  {
   "cell_type": "code",
   "execution_count": null,
   "metadata": {
    "slideshow": {
     "slide_type": "subslide"
    }
   },
   "outputs": [],
   "source": [
    "engine = create_engine(\"sqlite:///./Resources/dow.sqlite\", echo=False)"
   ]
  },
  {
   "cell_type": "code",
   "execution_count": null,
   "metadata": {
    "slideshow": {
     "slide_type": "subslide"
    }
   },
   "outputs": [],
   "source": [
    "engine.execute('SELECT * FROM dow LIMIT 5').fetchall()"
   ]
  },
  {
   "cell_type": "code",
   "execution_count": null,
   "metadata": {},
   "outputs": [],
   "source": [
    "inspector = inspect(engine)\n",
    "columns = inspector.get_columns('dow')\n",
    "for c in columns:\n",
    "    print(c['name'], c[\"type\"])"
   ]
  },
  {
   "cell_type": "markdown",
   "metadata": {
    "slideshow": {
     "slide_type": "slide"
    }
   },
   "source": [
    "## Reflect and query dates"
   ]
  },
  {
   "cell_type": "code",
   "execution_count": null,
   "metadata": {
    "slideshow": {
     "slide_type": "subslide"
    }
   },
   "outputs": [],
   "source": [
    "# Reflect Database into ORM class\n",
    "Base = automap_base()\n",
    "Base.prepare(engine, reflect=True)\n",
    "Dow = Base.classes.dow"
   ]
  },
  {
   "cell_type": "code",
   "execution_count": null,
   "metadata": {
    "slideshow": {
     "slide_type": "fragment"
    }
   },
   "outputs": [],
   "source": [
    "session = Session(engine)"
   ]
  },
  {
   "cell_type": "markdown",
   "metadata": {
    "slideshow": {
     "slide_type": "subslide"
    }
   },
   "source": [
    "## Analysis"
   ]
  },
  {
   "cell_type": "markdown",
   "metadata": {},
   "source": [
    "Analyze the Average prices (open, high, low, close) for all stocks in the Month of May"
   ]
  },
  {
   "cell_type": "code",
   "execution_count": null,
   "metadata": {
    "nbgrader": {
     "grade": false,
     "grade_id": "cell-a5033f5b305f26d6",
     "locked": false,
     "schema_version": 1,
     "solution": true
    }
   },
   "outputs": [],
   "source": [
    "# Query for the stock and average prices (open, high, low, close) \n",
    "# for all stock in the month of May\n",
    "# Sort the result by stock name\n",
    "sel = [Dow.stock, \n",
    "       func.avg(Dow.open_price), \n",
    "       func.avg(Dow.high_price), \n",
    "       func.avg(Dow.low_price), \n",
    "       func.avg(Dow.close_price)]\n",
    "may_averages = session.query(*sel).\\\n",
    "    filter(func.strftime(\"%m\", Dow.date) == \"05\").\\\n",
    "    group_by(Dow.stock).\\\n",
    "    order_by(Dow.stock).all()\n",
    "may_averages"
   ]
  },
  {
   "cell_type": "code",
   "execution_count": null,
   "metadata": {
    "nbgrader": {
     "grade": false,
     "grade_id": "cell-8f14868d3f8f3f50",
     "locked": false,
     "schema_version": 1,
     "solution": true
    }
   },
   "outputs": [],
   "source": [
    "# Plot the Results in a Matplotlib bar chart\n",
    "df = pd.DataFrame(may_averages, columns=['stock', 'open_avg', 'high_avg', 'low_avg', 'close_avg'])\n",
    "df.set_index('stock', inplace=True)\n",
    "df.plot.bar()\n",
    "plt.tight_layout()\n",
    "plt.show()\n"
   ]
  },
  {
   "cell_type": "markdown",
   "metadata": {},
   "source": [
    "### Bonus\n",
    "Calculate the high-low peak-to-peak (PTP) values for `IBM` stock after `2011-05-31`. \n",
    "* Note: high-low PTP is calculated using `high_price` - `low_price`\n",
    "* Use a DateTime.date object in the query filter\n",
    "* Use a list comprehension or numpy's ravel method to unpack the query's list of tuples into a list of PTP values.\n",
    "* Use matplotlib to plot the PTP values as a boxplot"
   ]
  },
  {
   "cell_type": "code",
   "execution_count": null,
   "metadata": {
    "nbgrader": {
     "grade": false,
     "grade_id": "cell-91ca80cc05b37ea7",
     "locked": false,
     "schema_version": 1,
     "solution": true
    },
    "slideshow": {
     "slide_type": "fragment"
    }
   },
   "outputs": [],
   "source": [
    "# Design a query to calculate the PTP for stock `IBM` after May, 2011\n",
    "import datetime as dt\n",
    "import numpy as np\n",
    "\n",
    "date = dt.datetime(2011, 5, 31)\n",
    "\n",
    "results = session.query(Dow.high_price - Dow.low_price).\\\n",
    "    filter(Dow.date > date).filter(Dow.stock == 'IBM').all()\n",
    "    \n",
    "ptps = list(np.ravel(results))\n",
    "\n",
    "# List Comprehension Solution\n",
    "# ptps = [result[0] for result in results]\n",
    "\n",
    "ptps"
   ]
  },
  {
   "cell_type": "code",
   "execution_count": null,
   "metadata": {
    "nbgrader": {
     "grade": false,
     "grade_id": "cell-d0b673b76e86e46e",
     "locked": false,
     "schema_version": 1,
     "solution": true
    },
    "scrolled": true
   },
   "outputs": [],
   "source": [
    "# Load the query into a dataframe, set the index to the date, and plot the ptps\n",
    "\n",
    "fig, ax = plt.subplots()\n",
    "\n",
    "x = range(len(ptps))\n",
    "ax.boxplot(ptps, patch_artist=True)\n",
    "ax.set_title('IBM PTPs')\n",
    "fig.tight_layout()\n",
    "plt.show()\n"
   ]
  },
  {
   "cell_type": "markdown",
   "metadata": {
    "slideshow": {
     "slide_type": "notes"
    }
   },
   "source": [
    "DataSet Citation: \n",
    "\n",
    "Brown, M. S., Pelosi, M. & Dirska, H. (2013). Dynamic-radius Species-conserving Genetic Algorithm for \n",
    "the Financial Forecasting of Dow Jones Index Stocks. Machine Learning and Data Mining in Pattern \n",
    "Recognition, 7988, 27-41.\n"
   ]
  },
  {
   "cell_type": "code",
   "execution_count": null,
   "metadata": {},
   "outputs": [],
   "source": []
  },
  {
   "cell_type": "code",
   "execution_count": null,
   "metadata": {},
   "outputs": [],
   "source": []
  },
  {
   "cell_type": "code",
   "execution_count": null,
   "metadata": {},
   "outputs": [],
   "source": []
  }
 ],
 "metadata": {
  "kernelspec": {
   "display_name": "Python 3",
   "language": "python",
   "name": "python3"
  },
  "language_info": {
   "codemirror_mode": {
    "name": "ipython",
    "version": 3
   },
   "file_extension": ".py",
   "mimetype": "text/x-python",
   "name": "python",
   "nbconvert_exporter": "python",
   "pygments_lexer": "ipython3",
   "version": "3.7.6"
  }
 },
 "nbformat": 4,
 "nbformat_minor": 4
}
