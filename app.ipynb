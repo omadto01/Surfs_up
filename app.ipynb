{
 "cells": [
  {
   "cell_type": "markdown",
   "id": "eeb4e0b4",
   "metadata": {},
   "source": [
    "# 9.5.1 Set Up the Database and Flask"
   ]
  },
  {
   "cell_type": "code",
   "execution_count": 1,
   "id": "3110bec9",
   "metadata": {},
   "outputs": [],
   "source": [
    "#Set Up the Flask Weather App on VS CODE"
   ]
  },
  {
   "cell_type": "code",
   "execution_count": 2,
   "id": "7bfbcb05",
   "metadata": {},
   "outputs": [],
   "source": [
    "import datetime as dt\n",
    "import numpy as np\n",
    "import pandas as pd\n",
    "import sqlalchemy\n",
    "\n",
    "from sqlalchemy.ext.automap import automap_base\n",
    "from sqlalchemy.orm import Session\n",
    "from sqlalchemy import create_engine, func\n",
    "\n",
    "from flask import Flask, jsonify\n",
    "\n",
    "engine = create_engine(\"sqlite:///hawaii.sqlite\")\n",
    "\n",
    "Base = automap_base()\n",
    "\n",
    "Base.prepare(engine, reflect=True)\n",
    "\n",
    "Measurement = Base.classes.measurement\n",
    "Station = Base.classes.station\n",
    "\n",
    "session = Session(engine)\n",
    "\n",
    "#Set Up Flask\n",
    "app = Flask(__name__)\n",
    "\n",
    "#---------------------------------------\n",
    "\n",
    "import app\n",
    "\n",
    "print(\"example __name__ = %s\", __name__)\n",
    "\n",
    "if __name__ == \"__main__\":\n",
    "    print(\"example is being run directly.\")\n",
    "else:\n",
    "    print(\"example is being imported\")"
   ]
  },
  {
   "cell_type": "markdown",
   "id": "4c832b8f",
   "metadata": {},
   "source": [
    "# 9.5.2 Create the Welcome Route"
   ]
  },
  {
   "cell_type": "code",
   "execution_count": 13,
   "id": "fa63928c",
   "metadata": {},
   "outputs": [],
   "source": [
    "#@app.route(\"/\")\n",
    "\n",
    "def welcome():\n",
    "    return(\n",
    "    '''\n",
    "    Welcome to the Climate Analysis API!\n",
    "    Available Routes:\n",
    "    /api/v1.0/precipitation\n",
    "    /api/v1.0/stations\n",
    "    /api/v1.0/tobs\n",
    "    /api/v1.0/temp/start/end\n",
    "    ''')"
   ]
  },
  {
   "cell_type": "code",
   "execution_count": null,
   "id": "e43fd694",
   "metadata": {},
   "outputs": [],
   "source": [
    "#flask run on command prompy phyton"
   ]
  },
  {
   "cell_type": "markdown",
   "id": "fa8223f1",
   "metadata": {},
   "source": [
    "# 9.5.3 Precipitation Route"
   ]
  },
  {
   "cell_type": "code",
   "execution_count": null,
   "id": "55875218",
   "metadata": {},
   "outputs": [],
   "source": [
    "@app.route(\"/api/v1.0/precipitation\")\n",
    "\n",
    "def precipitation():\n",
    "   prev_year = dt.date(2017, 8, 23) - dt.timedelta(days=365)\n",
    "   precipitation = session.query(Measurement.date, Measurement.prcp).\\\n",
    "    filter(Measurement.date >= prev_year).all()\n",
    "   precip = {date: prcp for date, prcp in precipitation}\n",
    "   return jsonify(precip)"
   ]
  },
  {
   "cell_type": "code",
   "execution_count": null,
   "id": "4349d8ce",
   "metadata": {},
   "outputs": [],
   "source": [
    "#flask run on command prompy phyton"
   ]
  },
  {
   "cell_type": "markdown",
   "id": "3421ce20",
   "metadata": {},
   "source": [
    "# 9.5.4 Stations Route"
   ]
  },
  {
   "cell_type": "code",
   "execution_count": 16,
   "id": "c2c39151",
   "metadata": {},
   "outputs": [],
   "source": [
    "@app.route(\"/api/v1.0/stations\")\n",
    "\n",
    "def stations():\n",
    "    results = session.query(Station.station).all()\n",
    "    stations = list(np.ravel(results))\n",
    "    return jsonify(stations=stations)\n",
    "\n",
    "\n"
   ]
  },
  {
   "cell_type": "code",
   "execution_count": null,
   "id": "d058ee97",
   "metadata": {},
   "outputs": [],
   "source": [
    "#flask run on command prompy phyton"
   ]
  },
  {
   "cell_type": "markdown",
   "id": "0fe9a436",
   "metadata": {},
   "source": [
    "# 9.5.5 Monthly Temperature Route"
   ]
  },
  {
   "cell_type": "code",
   "execution_count": null,
   "id": "181218b3",
   "metadata": {},
   "outputs": [],
   "source": [
    "@app.route(\"/api/v1.0/tobs\")\n",
    "\n",
    "def temp_monthly():\n",
    "    prev_year = dt.date(2017, 8, 23) - dt.timedelta(days=365)\n",
    "    results = session.query(Measurement.tobs).\\\n",
    "      filter(Measurement.station == 'USC00519281').\\\n",
    "      filter(Measurement.date >= prev_year).all()\n",
    "    temps = list(np.ravel(results))\n",
    "    return jsonify(temps=temps)\n",
    "\n"
   ]
  },
  {
   "cell_type": "code",
   "execution_count": null,
   "id": "ae5c6147",
   "metadata": {},
   "outputs": [],
   "source": [
    "#flask run on command prompy phyton"
   ]
  },
  {
   "cell_type": "markdown",
   "id": "d4ca0948",
   "metadata": {},
   "source": [
    "# 9.5.6 Statistics Route"
   ]
  },
  {
   "cell_type": "code",
   "execution_count": null,
   "id": "d9147360",
   "metadata": {},
   "outputs": [],
   "source": [
    "@app.route(\"/api/v1.0/temp/<start>\")\n",
    "@app.route(\"/api/v1.0/temp/2017-06-01/2017-06-30\") #/api/v1.0/temp/2017-06-01/2017-06-30\n",
    "\n",
    "def stats(start=None, end=None):\n",
    "    sel = [func.min(Measurement.tobs), func.avg(Measurement.tobs), func.max(Measurement.tobs)]\n",
    "\n",
    "    if not end:\n",
    "        results = session.query(*sel).\\\n",
    "            filter(Measurement.date >= start).all()\n",
    "        temps = list(np.ravel(results))\n",
    "        return jsonify(temps)\n",
    "\n",
    "    results = session.query(*sel).\\\n",
    "        filter(Measurement.date >= start).\\\n",
    "        filter(Measurement.date <= end).all()\n",
    "    temps = list(np.ravel(results))\n",
    "    return jsonify(temps)"
   ]
  },
  {
   "cell_type": "code",
   "execution_count": null,
   "id": "a964cb89",
   "metadata": {},
   "outputs": [],
   "source": [
    "#flask run on command prompy phyton"
   ]
  },
  {
   "cell_type": "code",
   "execution_count": null,
   "id": "fedc3d48",
   "metadata": {},
   "outputs": [],
   "source": []
  },
  {
   "cell_type": "code",
   "execution_count": null,
   "id": "bad0d157",
   "metadata": {},
   "outputs": [],
   "source": []
  }
 ],
 "metadata": {
  "kernelspec": {
   "display_name": "PythonData",
   "language": "python",
   "name": "pythondata"
  },
  "language_info": {
   "codemirror_mode": {
    "name": "ipython",
    "version": 3
   },
   "file_extension": ".py",
   "mimetype": "text/x-python",
   "name": "python",
   "nbconvert_exporter": "python",
   "pygments_lexer": "ipython3",
   "version": "3.9.7"
  }
 },
 "nbformat": 4,
 "nbformat_minor": 5
}
